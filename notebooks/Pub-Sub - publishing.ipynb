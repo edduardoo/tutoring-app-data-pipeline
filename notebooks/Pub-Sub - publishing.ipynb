{
 "cells": [
  {
   "cell_type": "code",
   "execution_count": 8,
   "id": "ee27de34",
   "metadata": {},
   "outputs": [],
   "source": [
    "from google.cloud import pubsub_v1\n",
    "import json"
   ]
  },
  {
   "cell_type": "code",
   "execution_count": 33,
   "id": "adaca880",
   "metadata": {},
   "outputs": [],
   "source": [
    "\n",
    "def publish_messages() -> None:\n",
    "    \"\"\"Publishes multiple messages to a Pub/Sub topic.\"\"\"\n",
    "    # [START pubsub_quickstart_publisher]\n",
    "    # [START pubsub_publish]\n",
    "\n",
    "    # TODO(developer)\n",
    "    project_id = \"jardim-data\"\n",
    "    topic_id = \"tutoring-stream\"\n",
    "\n",
    "    publisher = pubsub_v1.PublisherClient()\n",
    "    # The `topic_path` method creates a fully qualified identifier\n",
    "    # in the form `projects/{project_id}/topics/{topic_id}`\n",
    "    topic_path = publisher.topic_path(project_id, topic_id)\n",
    "\n",
    "    for n in range(1, 3):\n",
    "        data = {\"Name\": f\"Juca {n}\", \"Age\": n * 10}\n",
    "        data = json.dumps(data)\n",
    "        print(data)\n",
    "        #data_str = f\"Message number {n}\"\n",
    "        # Data must be a bytestring\n",
    "        data = data.encode(\"utf-8\")\n",
    "        # When you publish a message, the client returns a future.\n",
    "        future = publisher.publish(topic_path, data)\n",
    "        print(future.result())\n",
    "\n",
    "    print(f\"Published messages to {topic_path}.\")"
   ]
  },
  {
   "cell_type": "code",
   "execution_count": 34,
   "id": "9f7a2e8e",
   "metadata": {},
   "outputs": [
    {
     "name": "stdout",
     "output_type": "stream",
     "text": [
      "{\"Name\": \"Juca 1\", \"Age\": 10}\n",
      "6185125262705491\n",
      "{\"Name\": \"Juca 2\", \"Age\": 20}\n",
      "6185023665084233\n",
      "Published messages to projects/jardim-data/topics/tutoring-stream.\n"
     ]
    }
   ],
   "source": [
    "publish_messages()"
   ]
  }
 ],
 "metadata": {
  "kernelspec": {
   "display_name": "Python 3 (ipykernel)",
   "language": "python",
   "name": "python3"
  },
  "language_info": {
   "codemirror_mode": {
    "name": "ipython",
    "version": 3
   },
   "file_extension": ".py",
   "mimetype": "text/x-python",
   "name": "python",
   "nbconvert_exporter": "python",
   "pygments_lexer": "ipython3",
   "version": "3.10.4"
  }
 },
 "nbformat": 4,
 "nbformat_minor": 5
}

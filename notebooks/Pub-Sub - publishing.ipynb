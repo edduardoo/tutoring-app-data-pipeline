{
 "cells": [
  {
   "cell_type": "code",
   "execution_count": 94,
   "id": "ee27de34",
   "metadata": {},
   "outputs": [],
   "source": [
    "from google.cloud import pubsub_v1\n",
    "import json"
   ]
  },
  {
   "cell_type": "markdown",
   "id": "ff31e3bb-da30-4ed9-8530-0936e8067ac2",
   "metadata": {},
   "source": [
    "## Testing Pub-Sub Client API"
   ]
  },
  {
   "cell_type": "code",
   "execution_count": 33,
   "id": "adaca880",
   "metadata": {},
   "outputs": [],
   "source": [
    "def publish_messages() -> None:\n",
    "    \"\"\"Publishes multiple messages to a Pub/Sub topic.\"\"\"\n",
    "    # [START pubsub_quickstart_publisher]\n",
    "    # [START pubsub_publish]\n",
    "\n",
    "    # TODO(developer)\n",
    "    project_id = \"jardim-data\"\n",
    "    topic_id = \"tutoring-stream\"\n",
    "\n",
    "    publisher = pubsub_v1.PublisherClient()\n",
    "    # The `topic_path` method creates a fully qualified identifier\n",
    "    # in the form `projects/{project_id}/topics/{topic_id}`\n",
    "    topic_path = publisher.topic_path(project_id, topic_id)\n",
    "\n",
    "    for n in range(1, 3):\n",
    "        data = {\"Name\": f\"Juca {n}\", \"Age\": n * 10}\n",
    "        data = json.dumps(data)\n",
    "        print(data)\n",
    "        #data_str = f\"Message number {n}\"\n",
    "        # Data must be a bytestring\n",
    "        data = data.encode(\"utf-8\")\n",
    "        # When you publish a message, the client returns a future.\n",
    "        future = publisher.publish(topic_path, data)\n",
    "        print(future.result())\n",
    "\n",
    "    print(f\"Published messages to {topic_path}.\")"
   ]
  },
  {
   "cell_type": "code",
   "execution_count": 34,
   "id": "9f7a2e8e",
   "metadata": {},
   "outputs": [
    {
     "name": "stdout",
     "output_type": "stream",
     "text": [
      "{\"Name\": \"Juca 1\", \"Age\": 10}\n",
      "6185125262705491\n",
      "{\"Name\": \"Juca 2\", \"Age\": 20}\n",
      "6185023665084233\n",
      "Published messages to projects/jardim-data/topics/tutoring-stream.\n"
     ]
    }
   ],
   "source": [
    "publish_messages()"
   ]
  },
  {
   "cell_type": "markdown",
   "id": "31e8423a-ef9d-47fc-931d-135c4c9412e2",
   "metadata": {},
   "source": [
    "## Testing Publisher module\n",
    "Testing the module usage in a dataframe loop"
   ]
  },
  {
   "cell_type": "code",
   "execution_count": 95,
   "id": "f99d66d4-c449-4012-b88f-2aea674e65d8",
   "metadata": {},
   "outputs": [
    {
     "name": "stdout",
     "output_type": "stream",
     "text": [
      "/home/jardim/dev/tutoring-app-data-pipeline\n",
      "100%\r"
     ]
    }
   ],
   "source": [
    "import os\n",
    "os.chdir(\"/home/jardim/dev/tutoring-app-data-pipeline\")\n",
    "print(os.getcwd())\n",
    "\n",
    "import modules.datagen as gen\n",
    "import modules.bq_first_loader as bq\n",
    "import modules.publisher as pub\n",
    "import importlib\n",
    "from datetime import datetime\n",
    "importlib.reload(gen)\n",
    "importlib.reload(bq)\n",
    "importlib.reload(pub)\n",
    "\n",
    "students = gen.StudentsGenerator(100)\n",
    "subjects = gen.SubjectsGenerator()\n",
    "tutors = gen.TutorsGenerator(100, subjects)\n",
    "work_shifts = tutors.get_work_shifts()\n",
    "sessions = gen.SessionsGenerator(students, subjects, tutors)\n",
    "sessions.generate_sessions_for_date_range('2022-10-26', '2022-10-26')\n",
    "sessions.process('50S')"
   ]
  },
  {
   "cell_type": "code",
   "execution_count": 97,
   "id": "eb3a2a0a-22cb-467e-a796-dc6ff3aa93f2",
   "metadata": {},
   "outputs": [
    {
     "name": "stdout",
     "output_type": "stream",
     "text": [
      "Connecting to PubSub....  - Connected!\n"
     ]
    }
   ],
   "source": [
    "sessions_pub = pub.Publisher('stream-sessions')"
   ]
  },
  {
   "cell_type": "code",
   "execution_count": 98,
   "id": "88e7cd20-a45f-4cd2-acb0-dff9ad2fe16b",
   "metadata": {},
   "outputs": [
    {
     "data": {
      "text/plain": [
       "datetime.timedelta(microseconds=6394)"
      ]
     },
     "execution_count": 98,
     "metadata": {},
     "output_type": "execute_result"
    }
   ],
   "source": [
    "sess = sessions.get_sessions().loc[6:12, ]\n",
    "\n",
    "start_at = datetime.now()\n",
    "for i, s in sess.iterrows():\n",
    "    sessions_pub.publish_df_row(s)\n",
    "    \n",
    "end_at = datetime.now()\n",
    "end_at - start_at"
   ]
  }
 ],
 "metadata": {
  "kernelspec": {
   "display_name": "Python 3 (ipykernel)",
   "language": "python",
   "name": "python3"
  },
  "language_info": {
   "codemirror_mode": {
    "name": "ipython",
    "version": 3
   },
   "file_extension": ".py",
   "mimetype": "text/x-python",
   "name": "python",
   "nbconvert_exporter": "python",
   "pygments_lexer": "ipython3",
   "version": "3.8.10"
  }
 },
 "nbformat": 4,
 "nbformat_minor": 5
}

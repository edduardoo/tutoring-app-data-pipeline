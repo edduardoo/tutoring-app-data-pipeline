{
 "cells": [
  {
   "cell_type": "code",
   "execution_count": 204,
   "id": "42f9c289",
   "metadata": {},
   "outputs": [
    {
     "name": "stdout",
     "output_type": "stream",
     "text": [
      "/home/jardim/dev/tutoring-app-data-pipeline\n"
     ]
    },
    {
     "data": {
      "text/plain": [
       "<module 'modules.bq_first_loader' from '/home/jardim/dev/tutoring-app-data-pipeline/modules/bq_first_loader.py'>"
      ]
     },
     "execution_count": 204,
     "metadata": {},
     "output_type": "execute_result"
    }
   ],
   "source": [
    "import os\n",
    "os.chdir(\"/home/jardim/dev/tutoring-app-data-pipeline\")\n",
    "print(os.getcwd())\n",
    "\n",
    "import modules.datagen as gen\n",
    "import modules.bq_first_loader as bq\n",
    "import importlib\n",
    "from datetime import datetime\n",
    "importlib.reload(gen)\n",
    "importlib.reload(bq)"
   ]
  },
  {
   "cell_type": "markdown",
   "id": "885d2641-eab0-4de5-9d79-229b263a1b32",
   "metadata": {},
   "source": [
    "## Generating Mock Data For the First Load"
   ]
  },
  {
   "cell_type": "code",
   "execution_count": 198,
   "id": "ea4a8978",
   "metadata": {},
   "outputs": [
    {
     "name": "stdout",
     "output_type": "stream",
     "text": [
      "100%\r"
     ]
    }
   ],
   "source": [
    "students = gen.StudentsGenerator(1000)\n",
    "subjects = gen.SubjectsGenerator()\n",
    "tutors = gen.TutorsGenerator(100, subjects)\n",
    "work_shifts = tutors.get_work_shifts()\n",
    "sessions = gen.SessionsGenerator(students, subjects, tutors)\n",
    "sessions.generate_sessions_for_date_range('2022-10-10', '2022-10-12')\n",
    "sessions.process('50S')"
   ]
  },
  {
   "cell_type": "markdown",
   "id": "13c34f68-978b-4d6c-8344-d6ad62a2fb1b",
   "metadata": {
    "tags": []
   },
   "source": [
    "## First Load to BigQuery"
   ]
  },
  {
   "cell_type": "code",
   "execution_count": 205,
   "id": "f379a2aa-19be-4575-af16-ad518cca1be9",
   "metadata": {},
   "outputs": [
    {
     "name": "stdout",
     "output_type": "stream",
     "text": [
      "Connecting to BQ.....  - Connected!\n",
      "Loaded 1000 rows and 4 columns to jardim-data.dl_tutoring.students\n",
      "Loaded 4 rows and 5 columns to jardim-data.dl_tutoring.subjects\n",
      "Loaded 3 rows and 7 columns to jardim-data.dl_tutoring.work_shifts\n",
      "Loaded 100 rows and 9 columns to jardim-data.dl_tutoring.tutors\n",
      "Loaded 364 rows and 8 columns to jardim-data.dl_tutoring.sessions\n"
     ]
    }
   ],
   "source": [
    "loader = bq.BQFirstLoader()\n",
    "loader.load_df_to_table(students.get_students(), 'students')\n",
    "loader.load_df_to_table(subjects.get_subjects(), 'subjects')\n",
    "loader.load_df_to_table(tutors.get_work_shifts(), 'work_shifts')\n",
    "loader.load_df_to_table(tutors.get_tutors(), 'tutors')\n",
    "loader.load_df_to_table(sessions.get_sessions(), 'sessions')"
   ]
  },
  {
   "cell_type": "markdown",
   "id": "b9033e96-b760-404f-b22b-0c6bb0a31f27",
   "metadata": {},
   "source": [
    "## Generating Streaming Data"
   ]
  }
 ],
 "metadata": {
  "kernelspec": {
   "display_name": "Python 3 (ipykernel)",
   "language": "python",
   "name": "python3"
  },
  "language_info": {
   "codemirror_mode": {
    "name": "ipython",
    "version": 3
   },
   "file_extension": ".py",
   "mimetype": "text/x-python",
   "name": "python",
   "nbconvert_exporter": "python",
   "pygments_lexer": "ipython3",
   "version": "3.8.10"
  }
 },
 "nbformat": 4,
 "nbformat_minor": 5
}

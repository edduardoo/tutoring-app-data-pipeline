{
 "cells": [
  {
   "cell_type": "code",
   "execution_count": 204,
   "id": "42f9c289",
   "metadata": {},
   "outputs": [
    {
     "name": "stdout",
     "output_type": "stream",
     "text": [
      "/home/jardim/dev/tutoring-app-data-pipeline\n"
     ]
    },
    {
     "data": {
      "text/plain": [
       "<module 'modules.bq_first_loader' from '/home/jardim/dev/tutoring-app-data-pipeline/modules/bq_first_loader.py'>"
      ]
     },
     "execution_count": 204,
     "metadata": {},
     "output_type": "execute_result"
    }
   ],
   "source": [
    "import os\n",
    "os.chdir(\"/home/jardim/dev/tutoring-app-data-pipeline\")\n",
    "print(os.getcwd())\n",
    "\n",
    "import modules.datagen as gen\n",
    "import modules.bq_first_loader as bq\n",
    "import importlib\n",
    "from datetime import datetime\n",
    "importlib.reload(gen)\n",
    "importlib.reload(bq)"
   ]
  },
  {
   "cell_type": "markdown",
   "id": "885d2641-eab0-4de5-9d79-229b263a1b32",
   "metadata": {},
   "source": [
    "## Generating Mock Data For the First Load"
   ]
  },
  {
   "cell_type": "code",
   "execution_count": 198,
   "id": "ea4a8978",
   "metadata": {},
   "outputs": [
    {
     "name": "stdout",
     "output_type": "stream",
     "text": [
      "100%\r"
     ]
    }
   ],
   "source": [
    "students = gen.StudentsGenerator(1000)\n",
    "subjects = gen.SubjectsGenerator()\n",
    "tutors = gen.TutorsGenerator(100, subjects)\n",
    "work_shifts = tutors.get_work_shifts()\n",
    "sessions = gen.SessionsGenerator(students, subjects, tutors)\n",
    "sessions.generate_sessions_for_date_range('2022-10-10', '2022-10-12')\n",
    "sessions.process('50S')"
   ]
  },
  {
   "cell_type": "markdown",
   "id": "13c34f68-978b-4d6c-8344-d6ad62a2fb1b",
   "metadata": {
    "tags": []
   },
   "source": [
    "## First Load to BigQuery"
   ]
  },
  {
   "cell_type": "code",
   "execution_count": 205,
   "id": "f379a2aa-19be-4575-af16-ad518cca1be9",
   "metadata": {},
   "outputs": [
    {
     "name": "stdout",
     "output_type": "stream",
     "text": [
      "Connecting to BQ.....  - Connected!\n",
      "Loaded 1000 rows and 4 columns to jardim-data.dl_tutoring.students\n",
      "Loaded 4 rows and 5 columns to jardim-data.dl_tutoring.subjects\n",
      "Loaded 3 rows and 7 columns to jardim-data.dl_tutoring.work_shifts\n",
      "Loaded 100 rows and 9 columns to jardim-data.dl_tutoring.tutors\n",
      "Loaded 364 rows and 8 columns to jardim-data.dl_tutoring.sessions\n"
     ]
    }
   ],
   "source": [
    "loader = bq.BQFirstLoader()\n",
    "loader.load_df_to_table(students.get_students(), 'students')\n",
    "loader.load_df_to_table(subjects.get_subjects(), 'subjects')\n",
    "loader.load_df_to_table(tutors.get_work_shifts(), 'work_shifts')\n",
    "loader.load_df_to_table(tutors.get_tutors(), 'tutors')\n",
    "loader.load_df_to_table(sessions.get_sessions(), 'sessions')"
   ]
  },
  {
   "cell_type": "markdown",
   "id": "b9033e96-b760-404f-b22b-0c6bb0a31f27",
   "metadata": {},
   "source": [
    "## Generating Streaming Data"
   ]
  },
  {
   "cell_type": "code",
   "execution_count": 206,
   "id": "70488685-7d75-4ff9-9c9b-c7b0d3a4891c",
   "metadata": {},
   "outputs": [],
   "source": [
    "sessions.generate_sessions_for_date_range('2022-10-13', '2022-10-14')"
   ]
  },
  {
   "cell_type": "code",
   "execution_count": null,
   "id": "8c798db8-079e-45f8-b0b4-e88343c5bddf",
   "metadata": {},
   "outputs": [],
   "source": [
    "sessions.process('50S')"
   ]
  },
  {
   "cell_type": "code",
   "execution_count": 211,
   "id": "7310a586-c43a-445a-a199-60e12c99a9c0",
   "metadata": {},
   "outputs": [
    {
     "data": {
      "text/html": [
       "<div>\n",
       "<style scoped>\n",
       "    .dataframe tbody tr th:only-of-type {\n",
       "        vertical-align: middle;\n",
       "    }\n",
       "\n",
       "    .dataframe tbody tr th {\n",
       "        vertical-align: top;\n",
       "    }\n",
       "\n",
       "    .dataframe thead th {\n",
       "        text-align: right;\n",
       "    }\n",
       "</style>\n",
       "<table border=\"1\" class=\"dataframe\">\n",
       "  <thead>\n",
       "    <tr style=\"text-align: right;\">\n",
       "      <th></th>\n",
       "      <th>session_id</th>\n",
       "      <th>started_at</th>\n",
       "      <th>student_id</th>\n",
       "      <th>subject_id</th>\n",
       "      <th>duration_min</th>\n",
       "      <th>status</th>\n",
       "      <th>tutor_id</th>\n",
       "      <th>connected_at</th>\n",
       "      <th>finished_at</th>\n",
       "    </tr>\n",
       "  </thead>\n",
       "  <tbody>\n",
       "    <tr>\n",
       "      <th>0</th>\n",
       "      <td>100364</td>\n",
       "      <td>2022-10-13 07:14:46.551973</td>\n",
       "      <td>100921</td>\n",
       "      <td>100</td>\n",
       "      <td>24.878436</td>\n",
       "      <td>Queued</td>\n",
       "      <td>None</td>\n",
       "      <td>NaT</td>\n",
       "      <td>NaT</td>\n",
       "    </tr>\n",
       "    <tr>\n",
       "      <th>1</th>\n",
       "      <td>100365</td>\n",
       "      <td>2022-10-13 07:18:12.580694</td>\n",
       "      <td>100724</td>\n",
       "      <td>103</td>\n",
       "      <td>4.426739</td>\n",
       "      <td>Queued</td>\n",
       "      <td>None</td>\n",
       "      <td>NaT</td>\n",
       "      <td>NaT</td>\n",
       "    </tr>\n",
       "    <tr>\n",
       "      <th>2</th>\n",
       "      <td>100366</td>\n",
       "      <td>2022-10-13 07:21:26.109848</td>\n",
       "      <td>100189</td>\n",
       "      <td>101</td>\n",
       "      <td>16.557085</td>\n",
       "      <td>Queued</td>\n",
       "      <td>None</td>\n",
       "      <td>NaT</td>\n",
       "      <td>NaT</td>\n",
       "    </tr>\n",
       "    <tr>\n",
       "      <th>3</th>\n",
       "      <td>100367</td>\n",
       "      <td>2022-10-13 07:30:17.999227</td>\n",
       "      <td>100272</td>\n",
       "      <td>101</td>\n",
       "      <td>7.785882</td>\n",
       "      <td>Queued</td>\n",
       "      <td>None</td>\n",
       "      <td>NaT</td>\n",
       "      <td>NaT</td>\n",
       "    </tr>\n",
       "    <tr>\n",
       "      <th>4</th>\n",
       "      <td>100368</td>\n",
       "      <td>2022-10-13 07:38:38.846416</td>\n",
       "      <td>100165</td>\n",
       "      <td>100</td>\n",
       "      <td>9.880933</td>\n",
       "      <td>Queued</td>\n",
       "      <td>None</td>\n",
       "      <td>NaT</td>\n",
       "      <td>NaT</td>\n",
       "    </tr>\n",
       "    <tr>\n",
       "      <th>...</th>\n",
       "      <td>...</td>\n",
       "      <td>...</td>\n",
       "      <td>...</td>\n",
       "      <td>...</td>\n",
       "      <td>...</td>\n",
       "      <td>...</td>\n",
       "      <td>...</td>\n",
       "      <td>...</td>\n",
       "      <td>...</td>\n",
       "    </tr>\n",
       "    <tr>\n",
       "      <th>149</th>\n",
       "      <td>100513</td>\n",
       "      <td>2022-10-14 21:15:54.249281</td>\n",
       "      <td>100745</td>\n",
       "      <td>100</td>\n",
       "      <td>18.081667</td>\n",
       "      <td>Queued</td>\n",
       "      <td>None</td>\n",
       "      <td>NaT</td>\n",
       "      <td>NaT</td>\n",
       "    </tr>\n",
       "    <tr>\n",
       "      <th>150</th>\n",
       "      <td>100514</td>\n",
       "      <td>2022-10-14 21:54:02.350243</td>\n",
       "      <td>100600</td>\n",
       "      <td>100</td>\n",
       "      <td>25.452691</td>\n",
       "      <td>Queued</td>\n",
       "      <td>None</td>\n",
       "      <td>NaT</td>\n",
       "      <td>NaT</td>\n",
       "    </tr>\n",
       "    <tr>\n",
       "      <th>151</th>\n",
       "      <td>100515</td>\n",
       "      <td>2022-10-14 22:13:33.259774</td>\n",
       "      <td>100443</td>\n",
       "      <td>103</td>\n",
       "      <td>10.396263</td>\n",
       "      <td>Queued</td>\n",
       "      <td>None</td>\n",
       "      <td>NaT</td>\n",
       "      <td>NaT</td>\n",
       "    </tr>\n",
       "    <tr>\n",
       "      <th>152</th>\n",
       "      <td>100516</td>\n",
       "      <td>2022-10-14 22:21:19.782460</td>\n",
       "      <td>100233</td>\n",
       "      <td>101</td>\n",
       "      <td>10.425108</td>\n",
       "      <td>Queued</td>\n",
       "      <td>None</td>\n",
       "      <td>NaT</td>\n",
       "      <td>NaT</td>\n",
       "    </tr>\n",
       "    <tr>\n",
       "      <th>153</th>\n",
       "      <td>100517</td>\n",
       "      <td>2022-10-14 23:17:55.295499</td>\n",
       "      <td>100140</td>\n",
       "      <td>100</td>\n",
       "      <td>13.638627</td>\n",
       "      <td>Queued</td>\n",
       "      <td>None</td>\n",
       "      <td>NaT</td>\n",
       "      <td>NaT</td>\n",
       "    </tr>\n",
       "  </tbody>\n",
       "</table>\n",
       "<p>154 rows × 9 columns</p>\n",
       "</div>"
      ],
      "text/plain": [
       "     session_id                 started_at  student_id  subject_id  \\\n",
       "0        100364 2022-10-13 07:14:46.551973      100921         100   \n",
       "1        100365 2022-10-13 07:18:12.580694      100724         103   \n",
       "2        100366 2022-10-13 07:21:26.109848      100189         101   \n",
       "3        100367 2022-10-13 07:30:17.999227      100272         101   \n",
       "4        100368 2022-10-13 07:38:38.846416      100165         100   \n",
       "..          ...                        ...         ...         ...   \n",
       "149      100513 2022-10-14 21:15:54.249281      100745         100   \n",
       "150      100514 2022-10-14 21:54:02.350243      100600         100   \n",
       "151      100515 2022-10-14 22:13:33.259774      100443         103   \n",
       "152      100516 2022-10-14 22:21:19.782460      100233         101   \n",
       "153      100517 2022-10-14 23:17:55.295499      100140         100   \n",
       "\n",
       "     duration_min  status tutor_id connected_at finished_at  \n",
       "0       24.878436  Queued     None          NaT         NaT  \n",
       "1        4.426739  Queued     None          NaT         NaT  \n",
       "2       16.557085  Queued     None          NaT         NaT  \n",
       "3        7.785882  Queued     None          NaT         NaT  \n",
       "4        9.880933  Queued     None          NaT         NaT  \n",
       "..            ...     ...      ...          ...         ...  \n",
       "149     18.081667  Queued     None          NaT         NaT  \n",
       "150     25.452691  Queued     None          NaT         NaT  \n",
       "151     10.396263  Queued     None          NaT         NaT  \n",
       "152     10.425108  Queued     None          NaT         NaT  \n",
       "153     13.638627  Queued     None          NaT         NaT  \n",
       "\n",
       "[154 rows x 9 columns]"
      ]
     },
     "execution_count": 211,
     "metadata": {},
     "output_type": "execute_result"
    }
   ],
   "source": [
    "sessions._sessions#.head(1).to_json()"
   ]
  }
 ],
 "metadata": {
  "kernelspec": {
   "display_name": "Python 3 (ipykernel)",
   "language": "python",
   "name": "python3"
  },
  "language_info": {
   "codemirror_mode": {
    "name": "ipython",
    "version": 3
   },
   "file_extension": ".py",
   "mimetype": "text/x-python",
   "name": "python",
   "nbconvert_exporter": "python",
   "pygments_lexer": "ipython3",
   "version": "3.8.10"
  }
 },
 "nbformat": 4,
 "nbformat_minor": 5
}
